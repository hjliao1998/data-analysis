{
 "cells": [
  {
   "cell_type": "markdown",
   "metadata": {},
   "source": [
    "# 一、项目背景\n",
    "\n",
    "本数据报告以淘宝app平台为数据集，通过行业的指标对淘宝用户行为进行分析，从而探索淘宝用户的行为模式，具体指标包括：\n",
    "日PV和日UV分析，付费率分析，复购行为分析，漏斗流失分析和用户价值RFM分析。\n"
   ]
  },
  {
   "cell_type": "markdown",
   "metadata": {},
   "source": [
    "# 二、数据来源\n",
    "https://tianchi.aliyun.com/dataset/dataDetail?dataId=46&userId=1"
   ]
  },
  {
   "cell_type": "markdown",
   "metadata": {},
   "source": [
    "# 三、提出问题\n",
    "\n",
    "1.日PV有多少\n",
    "\n",
    "2.日UV有多少\n",
    "\n",
    "3.付费率情况如何\n",
    "\n",
    "4.复购率是多少\n",
    "\n",
    "5漏斗流失情况如何\n",
    "\n",
    "6.用户价值情况"
   ]
  },
  {
   "cell_type": "markdown",
   "metadata": {},
   "source": [
    "# 四、理解数据\n",
    "\n",
    "本数据集共有104万条左右数据，数据为淘宝APP2014年11月18日至2014年12月18日的用户行为数据，共计6列字段，列字段分别是：\n",
    "\n",
    "user_id：用户身份，脱敏\n",
    "\n",
    "item_id：商品ID，脱敏\n",
    "\n",
    "behavior_type：用户行为类型（包含点击、收藏、加购物车、支付四种行为，分别用数字1、2、3、4表示）\n",
    "\n",
    "user_geohash：地理位置\n",
    "\n",
    "item_category：品类ID（商品所属的品类）\n",
    "\n",
    "time：用户行为发生的时间"
   ]
  },
  {
   "cell_type": "markdown",
   "metadata": {},
   "source": [
    "# 五、数据清洗"
   ]
  },
  {
   "cell_type": "code",
   "execution_count": 1,
   "metadata": {},
   "outputs": [
    {
     "data": {
      "text/html": [
       "<div>\n",
       "<style scoped>\n",
       "    .dataframe tbody tr th:only-of-type {\n",
       "        vertical-align: middle;\n",
       "    }\n",
       "\n",
       "    .dataframe tbody tr th {\n",
       "        vertical-align: top;\n",
       "    }\n",
       "\n",
       "    .dataframe thead th {\n",
       "        text-align: right;\n",
       "    }\n",
       "</style>\n",
       "<table border=\"1\" class=\"dataframe\">\n",
       "  <thead>\n",
       "    <tr style=\"text-align: right;\">\n",
       "      <th></th>\n",
       "      <th>user_id</th>\n",
       "      <th>item_id</th>\n",
       "      <th>behavior_type</th>\n",
       "      <th>user_geohash</th>\n",
       "      <th>item_category</th>\n",
       "      <th>time</th>\n",
       "    </tr>\n",
       "  </thead>\n",
       "  <tbody>\n",
       "    <tr>\n",
       "      <td>0</td>\n",
       "      <td>98047837</td>\n",
       "      <td>232431562</td>\n",
       "      <td>1</td>\n",
       "      <td>NaN</td>\n",
       "      <td>4245</td>\n",
       "      <td>2014-12-06 02</td>\n",
       "    </tr>\n",
       "    <tr>\n",
       "      <td>1</td>\n",
       "      <td>97726136</td>\n",
       "      <td>383583590</td>\n",
       "      <td>1</td>\n",
       "      <td>NaN</td>\n",
       "      <td>5894</td>\n",
       "      <td>2014-12-09 20</td>\n",
       "    </tr>\n",
       "    <tr>\n",
       "      <td>2</td>\n",
       "      <td>98607707</td>\n",
       "      <td>64749712</td>\n",
       "      <td>1</td>\n",
       "      <td>NaN</td>\n",
       "      <td>2883</td>\n",
       "      <td>2014-12-18 11</td>\n",
       "    </tr>\n",
       "    <tr>\n",
       "      <td>3</td>\n",
       "      <td>98662432</td>\n",
       "      <td>320593836</td>\n",
       "      <td>1</td>\n",
       "      <td>96nn52n</td>\n",
       "      <td>6562</td>\n",
       "      <td>2014-12-06 10</td>\n",
       "    </tr>\n",
       "    <tr>\n",
       "      <td>4</td>\n",
       "      <td>98145908</td>\n",
       "      <td>290208520</td>\n",
       "      <td>1</td>\n",
       "      <td>NaN</td>\n",
       "      <td>13926</td>\n",
       "      <td>2014-12-16 21</td>\n",
       "    </tr>\n",
       "    <tr>\n",
       "      <td>5</td>\n",
       "      <td>93784494</td>\n",
       "      <td>337869048</td>\n",
       "      <td>1</td>\n",
       "      <td>NaN</td>\n",
       "      <td>3979</td>\n",
       "      <td>2014-12-03 20</td>\n",
       "    </tr>\n",
       "    <tr>\n",
       "      <td>6</td>\n",
       "      <td>94832743</td>\n",
       "      <td>105749725</td>\n",
       "      <td>1</td>\n",
       "      <td>NaN</td>\n",
       "      <td>9559</td>\n",
       "      <td>2014-12-13 20</td>\n",
       "    </tr>\n",
       "    <tr>\n",
       "      <td>7</td>\n",
       "      <td>95290487</td>\n",
       "      <td>76866650</td>\n",
       "      <td>1</td>\n",
       "      <td>NaN</td>\n",
       "      <td>10875</td>\n",
       "      <td>2014-11-27 16</td>\n",
       "    </tr>\n",
       "    <tr>\n",
       "      <td>8</td>\n",
       "      <td>96610296</td>\n",
       "      <td>161166643</td>\n",
       "      <td>1</td>\n",
       "      <td>NaN</td>\n",
       "      <td>3064</td>\n",
       "      <td>2014-12-11 23</td>\n",
       "    </tr>\n",
       "    <tr>\n",
       "      <td>9</td>\n",
       "      <td>100684618</td>\n",
       "      <td>21751142</td>\n",
       "      <td>3</td>\n",
       "      <td>NaN</td>\n",
       "      <td>2158</td>\n",
       "      <td>2014-12-05 23</td>\n",
       "    </tr>\n",
       "  </tbody>\n",
       "</table>\n",
       "</div>"
      ],
      "text/plain": [
       "     user_id    item_id  behavior_type user_geohash  item_category  \\\n",
       "0   98047837  232431562              1          NaN           4245   \n",
       "1   97726136  383583590              1          NaN           5894   \n",
       "2   98607707   64749712              1          NaN           2883   \n",
       "3   98662432  320593836              1      96nn52n           6562   \n",
       "4   98145908  290208520              1          NaN          13926   \n",
       "5   93784494  337869048              1          NaN           3979   \n",
       "6   94832743  105749725              1          NaN           9559   \n",
       "7   95290487   76866650              1          NaN          10875   \n",
       "8   96610296  161166643              1          NaN           3064   \n",
       "9  100684618   21751142              3          NaN           2158   \n",
       "\n",
       "            time  \n",
       "0  2014-12-06 02  \n",
       "1  2014-12-09 20  \n",
       "2  2014-12-18 11  \n",
       "3  2014-12-06 10  \n",
       "4  2014-12-16 21  \n",
       "5  2014-12-03 20  \n",
       "6  2014-12-13 20  \n",
       "7  2014-11-27 16  \n",
       "8  2014-12-11 23  \n",
       "9  2014-12-05 23  "
      ]
     },
     "execution_count": 1,
     "metadata": {},
     "output_type": "execute_result"
    }
   ],
   "source": [
    "import numpy as ny\n",
    "import pandas as pd\n",
    "%matplotlib inline\n",
    "import matplotlib.pyplot as plt\n",
    "import seaborn as sns\n",
    "import re\n",
    "plt.rcParams['font.sans-serif'] = ['SimHei'] # 指定默认字体\n",
    "plt.rcParams['axes.unicode_minus'] = False # 解决保存图像是负号'-'显示为方块的问题\n",
    "data_user = pd.read_csv('tianchi_mobile_recommend_train_user.csv')\n",
    "data_user.head(10)"
   ]
  },
  {
   "cell_type": "code",
   "execution_count": 2,
   "metadata": {},
   "outputs": [
    {
     "data": {
      "text/plain": [
       "user_geohash    8334824\n",
       "dtype: int64"
      ]
     },
     "execution_count": 2,
     "metadata": {},
     "output_type": "execute_result"
    }
   ],
   "source": [
    "# 1)缺失值处理\n",
    "missingTotal = data_user.isnull().sum()\n",
    "missingExist = missingTotal[missingTotal>0]\n",
    "missingExist = missingExist.sort_values(ascending=False)\n",
    "missingExist"
   ]
  },
  {
   "cell_type": "raw",
   "metadata": {},
   "source": [
    "存在缺失值的是User_geohash，有8334824条，不能删除缺失值，\n",
    "因为地理信息在数据集收集过程中做过加密转换，因此对数据集不做处理。"
   ]
  },
  {
   "cell_type": "code",
   "execution_count": 3,
   "metadata": {},
   "outputs": [
    {
     "data": {
      "text/html": [
       "<div>\n",
       "<style scoped>\n",
       "    .dataframe tbody tr th:only-of-type {\n",
       "        vertical-align: middle;\n",
       "    }\n",
       "\n",
       "    .dataframe tbody tr th {\n",
       "        vertical-align: top;\n",
       "    }\n",
       "\n",
       "    .dataframe thead th {\n",
       "        text-align: right;\n",
       "    }\n",
       "</style>\n",
       "<table border=\"1\" class=\"dataframe\">\n",
       "  <thead>\n",
       "    <tr style=\"text-align: right;\">\n",
       "      <th></th>\n",
       "      <th>user_id</th>\n",
       "      <th>item_id</th>\n",
       "      <th>behavior_type</th>\n",
       "      <th>user_geohash</th>\n",
       "      <th>item_category</th>\n",
       "      <th>time</th>\n",
       "      <th>date</th>\n",
       "      <th>hour</th>\n",
       "    </tr>\n",
       "  </thead>\n",
       "  <tbody>\n",
       "    <tr>\n",
       "      <td>0</td>\n",
       "      <td>98047837</td>\n",
       "      <td>232431562</td>\n",
       "      <td>1</td>\n",
       "      <td>NaN</td>\n",
       "      <td>4245</td>\n",
       "      <td>2014-12-06 02</td>\n",
       "      <td>2014-12-06</td>\n",
       "      <td>02</td>\n",
       "    </tr>\n",
       "    <tr>\n",
       "      <td>1</td>\n",
       "      <td>97726136</td>\n",
       "      <td>383583590</td>\n",
       "      <td>1</td>\n",
       "      <td>NaN</td>\n",
       "      <td>5894</td>\n",
       "      <td>2014-12-09 20</td>\n",
       "      <td>2014-12-09</td>\n",
       "      <td>20</td>\n",
       "    </tr>\n",
       "    <tr>\n",
       "      <td>2</td>\n",
       "      <td>98607707</td>\n",
       "      <td>64749712</td>\n",
       "      <td>1</td>\n",
       "      <td>NaN</td>\n",
       "      <td>2883</td>\n",
       "      <td>2014-12-18 11</td>\n",
       "      <td>2014-12-18</td>\n",
       "      <td>11</td>\n",
       "    </tr>\n",
       "    <tr>\n",
       "      <td>3</td>\n",
       "      <td>98662432</td>\n",
       "      <td>320593836</td>\n",
       "      <td>1</td>\n",
       "      <td>96nn52n</td>\n",
       "      <td>6562</td>\n",
       "      <td>2014-12-06 10</td>\n",
       "      <td>2014-12-06</td>\n",
       "      <td>10</td>\n",
       "    </tr>\n",
       "    <tr>\n",
       "      <td>4</td>\n",
       "      <td>98145908</td>\n",
       "      <td>290208520</td>\n",
       "      <td>1</td>\n",
       "      <td>NaN</td>\n",
       "      <td>13926</td>\n",
       "      <td>2014-12-16 21</td>\n",
       "      <td>2014-12-16</td>\n",
       "      <td>21</td>\n",
       "    </tr>\n",
       "  </tbody>\n",
       "</table>\n",
       "</div>"
      ],
      "text/plain": [
       "    user_id    item_id  behavior_type user_geohash  item_category  \\\n",
       "0  98047837  232431562              1          NaN           4245   \n",
       "1  97726136  383583590              1          NaN           5894   \n",
       "2  98607707   64749712              1          NaN           2883   \n",
       "3  98662432  320593836              1      96nn52n           6562   \n",
       "4  98145908  290208520              1          NaN          13926   \n",
       "\n",
       "            time        date hour  \n",
       "0  2014-12-06 02  2014-12-06   02  \n",
       "1  2014-12-09 20  2014-12-09   20  \n",
       "2  2014-12-18 11  2014-12-18   11  \n",
       "3  2014-12-06 10  2014-12-06   10  \n",
       "4  2014-12-16 21  2014-12-16   21  "
      ]
     },
     "execution_count": 3,
     "metadata": {},
     "output_type": "execute_result"
    }
   ],
   "source": [
    "# 2）一致化处理\n",
    "#拆分数据集\n",
    "data_user['date']=data_user['time'].map(lambda s:re.compile(' ').split(s)[0])\n",
    "data_user['hour']=data_user['time'].map(lambda s:re.compile(' ').split(s)[1])\n",
    "data_user.head()"
   ]
  },
  {
   "cell_type": "code",
   "execution_count": 4,
   "metadata": {},
   "outputs": [
    {
     "data": {
      "text/plain": [
       "user_id           int64\n",
       "item_id           int64\n",
       "behavior_type     int64\n",
       "user_geohash     object\n",
       "item_category     int64\n",
       "time             object\n",
       "date             object\n",
       "hour             object\n",
       "dtype: object"
      ]
     },
     "execution_count": 4,
     "metadata": {},
     "output_type": "execute_result"
    }
   ],
   "source": [
    "#查看data_user数据集数据类型：\n",
    "data_user.dtypes"
   ]
  },
  {
   "cell_type": "code",
   "execution_count": 5,
   "metadata": {},
   "outputs": [
    {
     "data": {
      "text/plain": [
       "user_id                   int64\n",
       "item_id                   int64\n",
       "behavior_type             int64\n",
       "user_geohash             object\n",
       "item_category             int64\n",
       "time             datetime64[ns]\n",
       "date             datetime64[ns]\n",
       "hour                      int64\n",
       "dtype: object"
      ]
     },
     "execution_count": 5,
     "metadata": {},
     "output_type": "execute_result"
    }
   ],
   "source": [
    "#发现time列和date列应该转化为日期类数据类型，hour列应该是字符串数据类型。\n",
    "\n",
    "#数据类型转化\n",
    "\n",
    "data_user['date']=pd.to_datetime(data_user['date'])\n",
    "data_user['time']=pd.to_datetime(data_user['time'])\n",
    "data_user['hour']=data_user['hour'].astype('int64')\n",
    "data_user.dtypes # 核对是否转换成功"
   ]
  },
  {
   "cell_type": "code",
   "execution_count": 6,
   "metadata": {},
   "outputs": [
    {
     "data": {
      "text/html": [
       "<div>\n",
       "<style scoped>\n",
       "    .dataframe tbody tr th:only-of-type {\n",
       "        vertical-align: middle;\n",
       "    }\n",
       "\n",
       "    .dataframe tbody tr th {\n",
       "        vertical-align: top;\n",
       "    }\n",
       "\n",
       "    .dataframe thead th {\n",
       "        text-align: right;\n",
       "    }\n",
       "</style>\n",
       "<table border=\"1\" class=\"dataframe\">\n",
       "  <thead>\n",
       "    <tr style=\"text-align: right;\">\n",
       "      <th></th>\n",
       "      <th>user_id</th>\n",
       "      <th>item_id</th>\n",
       "      <th>behavior_type</th>\n",
       "      <th>item_category</th>\n",
       "      <th>hour</th>\n",
       "    </tr>\n",
       "  </thead>\n",
       "  <tbody>\n",
       "    <tr>\n",
       "      <td>count</td>\n",
       "      <td>1.225691e+07</td>\n",
       "      <td>1.225691e+07</td>\n",
       "      <td>1.225691e+07</td>\n",
       "      <td>1.225691e+07</td>\n",
       "      <td>1.225691e+07</td>\n",
       "    </tr>\n",
       "    <tr>\n",
       "      <td>mean</td>\n",
       "      <td>7.170732e+07</td>\n",
       "      <td>2.023084e+08</td>\n",
       "      <td>1.105271e+00</td>\n",
       "      <td>6.846162e+03</td>\n",
       "      <td>1.481799e+01</td>\n",
       "    </tr>\n",
       "    <tr>\n",
       "      <td>std</td>\n",
       "      <td>4.122920e+07</td>\n",
       "      <td>1.167397e+08</td>\n",
       "      <td>4.572662e-01</td>\n",
       "      <td>3.809922e+03</td>\n",
       "      <td>6.474778e+00</td>\n",
       "    </tr>\n",
       "    <tr>\n",
       "      <td>min</td>\n",
       "      <td>4.913000e+03</td>\n",
       "      <td>6.400000e+01</td>\n",
       "      <td>1.000000e+00</td>\n",
       "      <td>2.000000e+00</td>\n",
       "      <td>0.000000e+00</td>\n",
       "    </tr>\n",
       "    <tr>\n",
       "      <td>25%</td>\n",
       "      <td>3.584965e+07</td>\n",
       "      <td>1.014130e+08</td>\n",
       "      <td>1.000000e+00</td>\n",
       "      <td>3.721000e+03</td>\n",
       "      <td>1.000000e+01</td>\n",
       "    </tr>\n",
       "    <tr>\n",
       "      <td>50%</td>\n",
       "      <td>7.292804e+07</td>\n",
       "      <td>2.021359e+08</td>\n",
       "      <td>1.000000e+00</td>\n",
       "      <td>6.209000e+03</td>\n",
       "      <td>1.600000e+01</td>\n",
       "    </tr>\n",
       "    <tr>\n",
       "      <td>75%</td>\n",
       "      <td>1.073774e+08</td>\n",
       "      <td>3.035405e+08</td>\n",
       "      <td>1.000000e+00</td>\n",
       "      <td>1.029000e+04</td>\n",
       "      <td>2.000000e+01</td>\n",
       "    </tr>\n",
       "    <tr>\n",
       "      <td>max</td>\n",
       "      <td>1.424559e+08</td>\n",
       "      <td>4.045625e+08</td>\n",
       "      <td>4.000000e+00</td>\n",
       "      <td>1.408000e+04</td>\n",
       "      <td>2.300000e+01</td>\n",
       "    </tr>\n",
       "  </tbody>\n",
       "</table>\n",
       "</div>"
      ],
      "text/plain": [
       "            user_id       item_id  behavior_type  item_category          hour\n",
       "count  1.225691e+07  1.225691e+07   1.225691e+07   1.225691e+07  1.225691e+07\n",
       "mean   7.170732e+07  2.023084e+08   1.105271e+00   6.846162e+03  1.481799e+01\n",
       "std    4.122920e+07  1.167397e+08   4.572662e-01   3.809922e+03  6.474778e+00\n",
       "min    4.913000e+03  6.400000e+01   1.000000e+00   2.000000e+00  0.000000e+00\n",
       "25%    3.584965e+07  1.014130e+08   1.000000e+00   3.721000e+03  1.000000e+01\n",
       "50%    7.292804e+07  2.021359e+08   1.000000e+00   6.209000e+03  1.600000e+01\n",
       "75%    1.073774e+08  3.035405e+08   1.000000e+00   1.029000e+04  2.000000e+01\n",
       "max    1.424559e+08  4.045625e+08   4.000000e+00   1.408000e+04  2.300000e+01"
      ]
     },
     "execution_count": 6,
     "metadata": {},
     "output_type": "execute_result"
    }
   ],
   "source": [
    "# 3）异常值处理\n",
    "data_user=data_user.sort_values(by='time',ascending=True)#排序处理\n",
    "data_user=data_user.reset_index(drop=True)#建立索引\n",
    "data_user.describe()"
   ]
  },
  {
   "cell_type": "raw",
   "metadata": {},
   "source": [
    "通过观察数据集的四分位数，总数，平均值，方差等，发现数据集并无异常值存在。"
   ]
  },
  {
   "cell_type": "markdown",
   "metadata": {},
   "source": [
    "# 六、用户行为分析"
   ]
  },
  {
   "cell_type": "raw",
   "metadata": {},
   "source": [
    "（1）pv和uv分析\n",
    "\n",
    "PV(访问量)：即Page View, 具体是指网站的是页面浏览量或者点击量，页面被刷新一次就计算一次。\n",
    "\n",
    "UV(独立访客)：即Unique Visitor,访问您网站的一台电脑客户端为一个访客。"
   ]
  },
  {
   "cell_type": "code",
   "execution_count": 7,
   "metadata": {},
   "outputs": [
    {
     "name": "stdout",
     "output_type": "stream",
     "text": [
      "        date      pv\n",
      "0 2014-11-18  366701\n",
      "1 2014-11-19  358823\n",
      "2 2014-11-20  353429\n",
      "3 2014-11-21  333104\n",
      "4 2014-11-22  361355\n",
      "        date    uv\n",
      "0 2014-11-18  6343\n",
      "1 2014-11-19  6420\n",
      "2 2014-11-20  6333\n",
      "3 2014-11-21  6276\n",
      "4 2014-11-22  6187\n"
     ]
    },
    {
     "data": {
      "text/plain": [
       "Text(0.5, 1.0, 'pv_daily')"
      ]
     },
     "execution_count": 7,
     "metadata": {},
     "output_type": "execute_result"
    },
    {
     "data": {
      "image/png": "[encoded data removed]",
      "text/plain": [
       "<Figure size 432x288 with 2 Axes>"
      ]
     },
     "metadata": {
      "needs_background": "light"
     },
     "output_type": "display_data"
    }
   ],
   "source": [
    "# 1）日访问量分析\n",
    "#pv_daily记录每天用户操作次数，uv_daily记录每天不同的上线用户数量\n",
    "pv_daily=data_user.groupby('date')['user_id'].count().reset_index().rename(columns={'user_id':'pv'})\n",
    "uv_daily=data_user.groupby('date')['user_id'].apply(lambda x:x.drop_duplicates().count()).reset_index().rename(columns={'user_id':'uv'})\n",
    "print(pv_daily.head())\n",
    "print(uv_daily.head())\n",
    "\n",
    "fig,axes=plt.subplots(2,1,sharex=True)\n",
    "pv_daily.plot(x='date',y='pv',ax=axes[0])\n",
    "uv_daily.plot(x='date',y='uv',ax=axes[1])\n",
    "axes[0].set_title('pv_daily')"
   ]
  },
  {
   "cell_type": "code",
   "execution_count": 8,
   "metadata": {},
   "outputs": [
    {
     "name": "stdout",
     "output_type": "stream",
     "text": [
      "         date      pv\n",
      "24 2014-12-12  691712\n",
      "23 2014-12-11  488508\n",
      "22 2014-12-10  421910\n",
      "15 2014-12-03  411606\n",
      "25 2014-12-13  407160\n",
      "         date    uv\n",
      "24 2014-12-12  7720\n",
      "23 2014-12-11  6894\n",
      "27 2014-12-15  6787\n",
      "25 2014-12-13  6776\n",
      "28 2014-12-16  6729\n"
     ]
    }
   ],
   "source": [
    "print(pv_daily.sort_values(by = 'pv',ascending=False).head(5))\n",
    "print(uv_daily.sort_values(by = 'uv',ascending=False).head(5))\n"
   ]
  },
  {
   "cell_type": "raw",
   "metadata": {},
   "source": [
    "结果显示如上图所示，在双十二期间，pv和uv访问量达到峰值，并且可以发现，uv和pv两个访问量数值差距比较大，同时，因为数据集总人数大约是10000人左右，因此，通过nv值可以分析出双十二期间淘宝用户的日活跃大概是45%浮动。"
   ]
  },
  {
   "cell_type": "code",
   "execution_count": 9,
   "metadata": {},
   "outputs": [
    {
     "data": {
      "text/plain": [
       "Text(0.5, 1.0, 'uv_hour')"
      ]
     },
     "execution_count": 9,
     "metadata": {},
     "output_type": "execute_result"
    },
    {
     "data": {
      "image/png": "[encoded data removed]",
      "text/plain": [
       "<Figure size 432x288 with 2 Axes>"
      ]
     },
     "metadata": {
      "needs_background": "light"
     },
     "output_type": "display_data"
    }
   ],
   "source": [
    "# 2）小时访问量分析\n",
    "#pv_hour记录每小时用户操作次数，uv_hour记录每小时不同的上线用户数量\n",
    "pv_hour=data_user.groupby('hour')['user_id'].count().reset_index().rename(columns={'user_id':'pv'})\n",
    "uv_hour=data_user.groupby('hour')['user_id'].apply(lambda x:x.drop_duplicates().count()).reset_index().rename(columns={'user_id':'uv'})\n",
    "fig,axes=plt.subplots(2,1,sharex=True)\n",
    "pv_hour.plot(x='hour',y='pv',ax=axes[0])\n",
    "uv_hour.plot(x='hour',y='uv',ax=axes[1])\n",
    "axes[0].set_title('pv_hour')\n",
    "axes[0].set_title('uv_hour')"
   ]
  },
  {
   "cell_type": "raw",
   "metadata": {},
   "source": [
    "图表显示:pv和uv在凌晨0-5点期间波动情况相同，都呈下降趋势，访问量都比较小，同时在晚上18：00左右，pv波动情况比较剧烈，相比来看uv不太明显，因此晚上18：00以后是淘宝用户访问app的活跃时间段。"
   ]
  },
  {
   "cell_type": "code",
   "execution_count": 10,
   "metadata": {},
   "outputs": [
    {
     "data": {
      "text/plain": [
       "Text(0.5, 1.0, 'pv_different_behavior_type_except1')"
      ]
     },
     "execution_count": 10,
     "metadata": {},
     "output_type": "execute_result"
    },
    {
     "data": {
      "image/png": "[encoded data removed]",
      "text/plain": [
       "<Figure size 432x288 with 2 Axes>"
      ]
     },
     "metadata": {
      "needs_background": "light"
     },
     "output_type": "display_data"
    }
   ],
   "source": [
    "#3) 不同行为类型用户pv分析\n",
    "pv_detail=data_user.groupby(['behavior_type','hour'])['user_id'].count().reset_index().rename(columns={'user_id':'total_pv'})\n",
    "fig,axes=plt.subplots(2,1,sharex=True)\n",
    "sns.pointplot(x='hour',y='total_pv',hue='behavior_type',data=pv_detail,ax=axes[0])\n",
    "sns.pointplot(x='hour',y='total_pv',hue='behavior_type',data=pv_detail[pv_detail.behavior_type!=1],ax=axes[1])\n",
    "axes[0].set_title('pv_different_behavior_type')\n",
    "axes[1].set_title('pv_different_behavior_type_except1')"
   ]
  },
  {
   "cell_type": "raw",
   "metadata": {},
   "source": [
    "有图表显示：点击这一用户行为相比较于其他三类用户行为，pv访问量较高，同时四种用户行为的波动情况基本一致，因此晚上这一时间段不管哪一种用户行为，pv访问量都是最高的。从图2可以看出，加入购物车这一用户行为的pv总量高于收藏的总量，因此在后续漏斗流失分析中，用户类型3应该在2之前分析。"
   ]
  },
  {
   "cell_type": "markdown",
   "metadata": {},
   "source": [
    "# 七、用户消费行为分析"
   ]
  },
  {
   "cell_type": "code",
   "execution_count": 11,
   "metadata": {},
   "outputs": [
    {
     "data": {
      "text/plain": [
       "Text(0.5, 1.0, 'daily_user_buy')"
      ]
     },
     "execution_count": 11,
     "metadata": {},
     "output_type": "execute_result"
    },
    {
     "data": {
      "image/png": "[encoded data removed]",
      "text/plain": [
       "<Figure size 432x288 with 1 Axes>"
      ]
     },
     "metadata": {
      "needs_background": "light"
     },
     "output_type": "display_data"
    }
   ],
   "source": [
    "# （1）用户购买次数情况分析\n",
    "data_user_buy=data_user[data_user.behavior_type==4].groupby('user_id')['behavior_type'].count()\n",
    "sns.distplot(data_user_buy,kde=False)\n",
    "plt.title('daily_user_buy')"
   ]
  },
  {
   "cell_type": "raw",
   "metadata": {},
   "source": [
    "图表显示：淘宝用户消费次数普遍在10次以内，因此需要重点关注购买次数在10次以上的消费者用户群体。"
   ]
  },
  {
   "cell_type": "code",
   "execution_count": 12,
   "metadata": {},
   "outputs": [],
   "source": [
    "# （2）日ARPPU"
   ]
  },
  {
   "cell_type": "raw",
   "metadata": {},
   "source": [
    "ARPPU（average revenue per paying user）是指从每位付费用户身上获得的收入，它反映的是每个付费用户的平均付费额度。\n",
    "\n",
    "ARPPU=总收入/活跃用户付费数量\n",
    "\n",
    "因为本数据集中没有消费金额，因此在计算过程中用消费次数代替消费金额\n",
    "\n",
    "人均消费次数=消费总次数/消费人数"
   ]
  },
  {
   "cell_type": "code",
   "execution_count": 13,
   "metadata": {},
   "outputs": [
    {
     "data": {
      "text/plain": [
       "Text(0.5, 1.0, 'daily_ARPPU')"
      ]
     },
     "execution_count": 13,
     "metadata": {},
     "output_type": "execute_result"
    },
    {
     "data": {
      "image/png": "[encoded data removed]",
      "text/plain": [
       "<Figure size 432x288 with 1 Axes>"
      ]
     },
     "metadata": {
      "needs_background": "light"
     },
     "output_type": "display_data"
    }
   ],
   "source": [
    "data_use_buy1=data_user[data_user.behavior_type==4].groupby(['date','user_id'])['behavior_type'].count().reset_index().rename(columns={'behavior_type':'total'})\n",
    "data_use_buy1.groupby('date').apply(lambda x:x.total.sum()/x.total.count()).plot()\n",
    "plt.title('daily_ARPPU')"
   ]
  },
  {
   "cell_type": "raw",
   "metadata": {},
   "source": [
    "图表显示：平均每天消费次数在1-2次之间波动，双十二期间消费次数达到最高值。"
   ]
  },
  {
   "cell_type": "code",
   "execution_count": 14,
   "metadata": {},
   "outputs": [],
   "source": [
    "# （3）日ARPU"
   ]
  },
  {
   "cell_type": "raw",
   "metadata": {},
   "source": [
    "ARPU(Average Revenue Per User) ：平均每用户收入，可通过 总收入/AU 计算得出。它可以衡量产品的盈利能力和发展活力。\n",
    "\n",
    "活跃用户数平均消费次数=消费总次数/活跃用户人数(每天有操作行为的为活跃)"
   ]
  },
  {
   "cell_type": "code",
   "execution_count": 15,
   "metadata": {},
   "outputs": [
    {
     "data": {
      "text/plain": [
       "Text(0.5, 1.0, 'daily_ARPU')"
      ]
     },
     "execution_count": 15,
     "metadata": {},
     "output_type": "execute_result"
    },
    {
     "data": {
      "image/png": "[encoded data removed]",
      "text/plain": [
       "<Figure size 432x288 with 1 Axes>"
      ]
     },
     "metadata": {
      "needs_background": "light"
     },
     "output_type": "display_data"
    }
   ],
   "source": [
    "data_user['operation']=1\n",
    "data_use_buy2=data_user.groupby(['date','user_id','behavior_type'])['operation'].count().reset_index().rename(columns={'operation':'total'})\n",
    "data_use_buy2.groupby('date').apply(lambda x:x[x.behavior_type==4].total.sum()/len(x.user_id.unique())).plot()\n",
    "plt.title('daily_ARPU')"
   ]
  },
  {
   "cell_type": "raw",
   "metadata": {},
   "source": [
    "图表显示，淘宝活跃用户（有过操作行为的用户）平均每天消费次数比较低，在0.075次左右，双十二期间达到最高值，有0.225左右。"
   ]
  },
  {
   "cell_type": "code",
   "execution_count": 16,
   "metadata": {},
   "outputs": [],
   "source": [
    "# （4）付费率"
   ]
  },
  {
   "cell_type": "raw",
   "metadata": {},
   "source": [
    "付费率=消费人数/活跃用户人数"
   ]
  },
  {
   "cell_type": "code",
   "execution_count": 17,
   "metadata": {},
   "outputs": [
    {
     "data": {
      "text/plain": [
       "Text(0.5, 1.0, 'daily_afford_rate')"
      ]
     },
     "execution_count": 17,
     "metadata": {},
     "output_type": "execute_result"
    },
    {
     "data": {
      "image/png": "[encoded data removed]",
      "text/plain": [
       "<Figure size 432x288 with 1 Axes>"
      ]
     },
     "metadata": {
      "needs_background": "light"
     },
     "output_type": "display_data"
    }
   ],
   "source": [
    "data_use_buy2.groupby('date').apply(lambda x:x[x.behavior_type==4].total.count()/len(x.user_id.unique())).plot()\n",
    "plt.title('daily_afford_rate')"
   ]
  },
  {
   "cell_type": "raw",
   "metadata": {},
   "source": [
    "图表显示：每天活跃用户人群中，大概6%的用户具有消费行为，在双十二期间消费用户人数最多。"
   ]
  },
  {
   "cell_type": "code",
   "execution_count": 18,
   "metadata": {},
   "outputs": [],
   "source": [
    "# （5）同一时间段用户消费次数分布"
   ]
  },
  {
   "cell_type": "code",
   "execution_count": 19,
   "metadata": {},
   "outputs": [
    {
     "name": "stdout",
     "output_type": "stream",
     "text": [
      "大多数用户消费：1次\n"
     ]
    },
    {
     "data": {
      "image/png": "[encoded data removed]",
      "text/plain": [
       "<Figure size 432x288 with 1 Axes>"
      ]
     },
     "metadata": {
      "needs_background": "light"
     },
     "output_type": "display_data"
    }
   ],
   "source": [
    "data_user_buy3=data_user[data_user.behavior_type==4].groupby(['user_id','date','hour'])['operation'].sum().rename('buy_count')\n",
    "sns.distplot(data_user_buy3)\n",
    "print('大多数用户消费：{}次'.format(data_user_buy3.mode()[0]))\n",
    "#输出结果\n",
    "# 在同一时间段中，大多数用户消费次数为1次"
   ]
  },
  {
   "cell_type": "markdown",
   "metadata": {},
   "source": [
    "# 八、复购情况分析"
   ]
  },
  {
   "cell_type": "raw",
   "metadata": {},
   "source": [
    "复购情况，即两天以上有购买行为,一天多次购买算一次\n",
    "复购率=有复购行为的用户数/有购买行为的用户总数"
   ]
  },
  {
   "cell_type": "code",
   "execution_count": 20,
   "metadata": {},
   "outputs": [
    {
     "name": "stdout",
     "output_type": "stream",
     "text": [
      "复购率: 0.8717\n"
     ]
    }
   ],
   "source": [
    "date_rebuy=data_user[data_user.behavior_type==4].groupby('user_id')['date'].apply(lambda x:len(x.unique())).rename('rebuy_count')\n",
    "print('复购率:',round(date_rebuy[date_rebuy>=2].count()/date_rebuy.count(),4))\n",
    "#输出结果\n",
    "# 复购率: 0.8717"
   ]
  },
  {
   "cell_type": "code",
   "execution_count": 21,
   "metadata": {},
   "outputs": [
    {
     "name": "stdout",
     "output_type": "stream",
     "text": [
      "多数用户复购次数：0次\n"
     ]
    },
    {
     "data": {
      "image/png": "[encoded data removed]",
      "text/plain": [
       "<Figure size 432x288 with 1 Axes>"
      ]
     },
     "metadata": {
      "needs_background": "light"
     },
     "output_type": "display_data"
    }
   ],
   "source": [
    "sns.distplot(date_rebuy-1)\n",
    "plt.title('rebuy_user')\n",
    "print('多数用户复购次数：{}次'.format((date_rebuy-1).mode()[0]))"
   ]
  },
  {
   "cell_type": "code",
   "execution_count": null,
   "metadata": {},
   "outputs": [],
   "source": [
    "#所有复购时间间隔消费次数分布\n",
    "sns.set()\n",
    "data_day_buy=data_user[data_user.behavior_type==4].groupby(['user_id','date']).operation.count().reset_index()\n",
    "data_user_buy4=data_day_buy.groupby('user_id').date.apply(lambda x:x.sort_values().diff(1).dropna())\n",
    "data_user_buy4=data_user_buy4.map(lambda x:x.days)\n",
    "data_user_buy4.value_counts().plot(kind='bar')\n",
    "plt.title('time_gap')\n",
    "plt.xlabel('gap_day')\n",
    "plt.ylabel('gap_count')"
   ]
  },
  {
   "cell_type": "raw",
   "metadata": {},
   "source": [
    "多数用户复购率为0.4693，消费次数随着消费时间间隔的增加而不断下降，在1-10天之内复购次数比较多，10天之后复购次数淘宝用户很少在进行复购，因此需要重视10天之内的淘宝用户复购行为，增加用户复购。"
   ]
  },
  {
   "cell_type": "code",
   "execution_count": null,
   "metadata": {},
   "outputs": [],
   "source": [
    "#不同用户平均复购时间分析\n",
    "sns.distplot(data_user_buy4.reset_index().groupby('user_id').date.mean())"
   ]
  },
  {
   "cell_type": "raw",
   "metadata": {},
   "source": [
    "不同用户平均复购时间呈正态分布，但是总体来看，呈现逐渐下降趋势。多数淘宝用户平均复购时间集中在1-5天时间间隔内。"
   ]
  },
  {
   "cell_type": "markdown",
   "metadata": {},
   "source": [
    "# 九、漏斗流失分析"
   ]
  },
  {
   "cell_type": "raw",
   "metadata": {},
   "source": [
    "漏斗分析是一套流程式数据分析，它能够科学反映用户行为状态以及从起点到终点各阶段用户转化率情况的重要分析模型。"
   ]
  },
  {
   "cell_type": "code",
   "execution_count": null,
   "metadata": {},
   "outputs": [],
   "source": [
    "data_user_count=data_user.groupby(['behavior_type']).count()\n",
    "data_user_count.head()\n",
    "pv_all=data_user['user_id'].count()\n",
    "print(pv_all)\n",
    "#输出结果"
   ]
  },
  {
   "cell_type": "raw",
   "metadata": {},
   "source": [
    "总浏览量—点击量 流失率：5.79%\n",
    "\n",
    "点击量-加入购物车量 流失率：97.02%\n",
    "\n",
    "加入购物车量-收藏量 流失率：28.65%\n",
    "\n",
    "收藏量-购买量 流失率：51.23%\n",
    "\n",
    "通过流失率情况的计算和分析，重视每一环节流失率可能发生的情况。"
   ]
  },
  {
   "cell_type": "markdown",
   "metadata": {},
   "source": [
    "# 十、用户行为与商品种类关系分析"
   ]
  },
  {
   "cell_type": "code",
   "execution_count": null,
   "metadata": {},
   "outputs": [],
   "source": [
    "#不同用户行为类别的转化率\n",
    "data_category=data_user[data_user.behavior_type!=2].groupby(['item_category','behavior_type']).operation.count().unstack(1).rename(columns={1:'点击量',3:'加入购物车量',4:'购买量'}).fillna(0)\n",
    "data_category.head()"
   ]
  },
  {
   "cell_type": "code",
   "execution_count": null,
   "metadata": {},
   "outputs": [],
   "source": [
    "#转化率计算\n",
    "data_category['转化率']=data_category['购买量']/data_category['点击量']\n",
    "data_category.head()"
   ]
  },
  {
   "cell_type": "code",
   "execution_count": null,
   "metadata": {},
   "outputs": [],
   "source": [
    "#异常值处理\n",
    "plt.rcParams['font.sans-serif'] = ['SimHei'] # 指定默认字体\n",
    "plt.rcParams['axes.unicode_minus'] = False # 解决保存图像是负号'-'显示为方块的问题\n",
    "data_category=data_category.fillna(0)\n",
    "data_category=data_category[data_category['转化率']<=1]\n",
    "#转化率绘图\n",
    "sns.distplot(data_category['转化率'])"
   ]
  },
  {
   "cell_type": "raw",
   "metadata": {},
   "source": [
    "图表显示：基本上各种用户行为类型转换率都在0.1以内,同时绝大多数用户都没有购买情况，需要重点关注出现该现象的原因进行分析改进。"
   ]
  },
  {
   "cell_type": "code",
   "execution_count": null,
   "metadata": {},
   "outputs": [],
   "source": [
    "data_category['感兴趣比率']=data_category['加入购物车量']/data_category['点击量']\n",
    "data_category.head()"
   ]
  },
  {
   "cell_type": "code",
   "execution_count": null,
   "metadata": {},
   "outputs": [],
   "source": [
    "#异常值处理，感兴趣比率绘图\n",
    "data_category=data_category[data_category['感兴趣比率']<=1]\n",
    "sns.distplot(data_category['感兴趣比率'])"
   ]
  },
  {
   "cell_type": "code",
   "execution_count": null,
   "metadata": {},
   "outputs": [],
   "source": [
    "sns.distplot(data_category[data_category['感兴趣比率']>0]['感兴趣比率'],kde=False)"
   ]
  },
  {
   "cell_type": "raw",
   "metadata": {},
   "source": [
    "图表显示：感兴趣率和转化率类似，基本也是0.1以内，说明用户点击的绝大多数商品并非感兴趣，需要重视推荐系统的调整。"
   ]
  },
  {
   "cell_type": "code",
   "execution_count": null,
   "metadata": {},
   "outputs": [],
   "source": [
    "##将转化率分三类查看各类占比例\n",
    "data_convert_rate=pd.cut(data_category['转化率'],[-1,0,0.1,1]).value_counts()\n",
    "data_convert_rate=data_convert_rate/data_convert_rate.sum()\n",
    "data_convert_rate\n",
    "#输出结果"
   ]
  },
  {
   "cell_type": "code",
   "execution_count": null,
   "metadata": {},
   "outputs": [],
   "source": [
    "##将感兴趣比率分三类查看各类占比例\n",
    "data_interest_rate=pd.cut(data_category['感兴趣比率'],[-1,0,0.1,1]).value_counts()\n",
    "data_interest_rate=data_interest_rate/data_interest_rate.sum()\n",
    "data_interest_rate\n",
    "#输出结果"
   ]
  },
  {
   "cell_type": "raw",
   "metadata": {},
   "source": [
    "图表显示：转化率达到0.1以上仅仅只有3.6%的用户，有超过70%的用户几乎不会发生购买行为。同时从感兴趣比率来看：有40%的用户对商品不感兴趣。"
   ]
  },
  {
   "cell_type": "markdown",
   "metadata": {},
   "source": [
    "# 十一、二八理论分析"
   ]
  },
  {
   "cell_type": "raw",
   "metadata": {},
   "source": [
    "二八定律：在任何一组东西中，最重要的只占其中一小部分，约20%，其余80%尽管是多数，却是次要的，因此又称二八定律。"
   ]
  },
  {
   "cell_type": "code",
   "execution_count": null,
   "metadata": {},
   "outputs": [],
   "source": [
    "#二八理论和长尾理论\n",
    "data_category=data_category[data_category['购买量']>0]\n",
    "value_8=data_category['购买量'].sum()*0.8\n",
    "value_10=data_category['购买量'].sum()\n",
    "data_category=data_category.sort_values(by='购买量',ascending=False)\n",
    "data_category['累计购买量']=data_category['购买量'].cumsum()\n",
    "data_category['分类']=data_category['累计购买量'].map(lambda x:'前80%' if x<=value_8 else '后20%')\n",
    "data_category.head()"
   ]
  },
  {
   "cell_type": "code",
   "execution_count": null,
   "metadata": {},
   "outputs": [],
   "source": [
    "data_category.groupby('分类')['分类'].count()/data_category['分类'].count()\n",
    "#输出结果"
   ]
  },
  {
   "cell_type": "raw",
   "metadata": {},
   "source": [
    "图表显示：前80%销量有30%左右的商品品类承包，接近二八原则。但我们也看出有接近20%的销量由70%的商品品类提供。\n",
    "\n",
    "对于传统零售行业，因为成本高，因此只能局限于这前20%的商品提供利润；\n",
    "\n",
    "对于电子商务，空间成本吉减少乃至为0，使后80%的商品也可以销售出去，因此将长尾部分的商品优化推荐好，能够给企业带来更大的收益"
   ]
  },
  {
   "cell_type": "markdown",
   "metadata": {},
   "source": [
    "# 十二、用户价值度RFM模型分析"
   ]
  },
  {
   "cell_type": "raw",
   "metadata": {},
   "source": [
    "RFM的含义：\n",
    "\n",
    "R（Recency）：客户最近一次交易时间的间隔。R值越大，表示客户交易发生的日期越久，反之则表示客户交易发生的日期越近。\n",
    "F（Frequency）：客户在最近一段时间内交易的次数。F值越大，表示客户交易越频繁，反之则表示客户交易不够活跃。\n",
    "M（Monetary）：客户在最近一段时间内交易的金额。M值越大，表示客户价值越高，反之则表示客户价值越低。\n",
    "RFM分析就是根据客户活跃程度和交易金额的贡献，进行客户价值细分的一种方法。\n",
    "\n"
   ]
  },
  {
   "cell_type": "code",
   "execution_count": null,
   "metadata": {},
   "outputs": [],
   "source": [
    "from datetime import datetime\n",
    "datenow=datetime(2014,12,20)\n",
    "#每位用户最近购买时间\n",
    "recent_buy_time=data_user[data_user.behavior_type==4].groupby('user_id').date.apply(lambda x:datetime(2014,12,20)-x.sort_values().iloc[-1]).reset_index().rename(columns={'date':'recent'})\n",
    "recent_buy_time.recent=recent_buy_time.recent.map(lambda x:x.days)\n",
    "#每个用户消费频率\n",
    "buy_freq=data_user[data_user.behavior_type==4].groupby('user_id').date.count().reset_index().rename(columns={'date':'freq'})\n",
    "rfm=pd.merge(recent_buy_time,buy_freq,left_on='user_id',right_on='user_id',how='outer')\n",
    "#将各维度分成两个程度,分数越高越好\n",
    "rfm['recent_value']=pd.qcut(rfm.recent,2,labels=['2','1'])\n",
    "rfm['freq_value']=pd.qcut(rfm.freq,2,labels=['1','2'])\n",
    "rfm['rfm']=rfm['recent_value'].str.cat(rfm['freq_value'])\n",
    "rfm.head()"
   ]
  },
  {
   "cell_type": "raw",
   "metadata": {},
   "source": [
    "表格显示：因为本数据集没有提供消费金额，因此只能R和F进行用户价值分析，通过RF用户价值分析，对于22用户，为重点用户需要关注；对于21这类忠诚度高而购买能力不足的，可以可以适当给点折扣或捆绑销售来增加用户的购买频率。对于12这类忠诚度不高而购买能力强的，需要关注他们的购物习性做精准化营销。"
   ]
  },
  {
   "cell_type": "code",
   "execution_count": null,
   "metadata": {},
   "outputs": [],
   "source": []
  }
 ],
 "metadata": {
  "kernelspec": {
   "display_name": "Python 3",
   "language": "python",
   "name": "python3"
  },
  "language_info": {
   "codemirror_mode": {
    "name": "ipython",
    "version": 3
   },
   "file_extension": ".py",
   "mimetype": "text/x-python",
   "name": "python",
   "nbconvert_exporter": "python",
   "pygments_lexer": "ipython3",
   "version": "3.7.4"
  }
 },
 "nbformat": 4,
 "nbformat_minor": 2
}
